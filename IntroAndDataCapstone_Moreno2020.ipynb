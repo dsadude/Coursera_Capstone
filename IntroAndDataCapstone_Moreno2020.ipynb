{
 "cells": [
  {
   "cell_type": "markdown",
   "metadata": {},
   "source": [
    "# CAPSTONE PROJECT"
   ]
  },
  {
   "cell_type": "markdown",
   "metadata": {},
   "source": [
    "## Introduction\n",
    "\n",
    "In this capstone, I will like to compare wealth inequality between two cities by using venue clusters as a proxy measure of wealth levels. Specifically, I will be comparing two main financial districts. Toronto City, Canada a financial district in a developed country in North America; and Makati City, Philippines, a financial district in a developing country in Southeast Asia. I chose financial districts because this is where wealth disparity is most pronounced.\n",
    "\n",
    "This assessment will look into the type of venues in these locations, how these venues are clustered, and whether these clusters are dispersed or concentrated.\n",
    "\n",
    "The capstone will also use as reference, the 2018 GINI Coefficients of both countries. The GINI index measures the extent to which the distribution of income or consumption expenditure among individuals or households within an economy deviates from a perfectly equal distribution. 0 is complete equality, 100 is complete inequality. \n",
    "\n",
    "The Gini coefficients of Canada is 31.2% and the Philippines is 47.9%. This indicates that there is more wealth distribution inequality in the Philippines compared to Canada. I would use the results of this capstone to see if the results is consisitent with this fact. \n",
    "\n",
    "I will be assuming that wealth levels in the areas where venue clusters are large are high enough to support the existence of such venues. Conversely, areas with a small cluster of venues will be considered areas where income levels are low. Hence, I will assume that the more dispersed venue clusters are, especially outide the central district, the more distributed the wealth levels are. A more concentrated set of venue clusters, espcially in the innder district, will be considered a less distributed wealth level. \n"
   ]
  },
  {
   "cell_type": "markdown",
   "metadata": {},
   "source": [
    "## Data\n",
    "The data that I will be using, comes from the previous excercises of k-cluster capstone. I also used postalandzipcodes.ph for the zipcodes of the respective neighborhoods of Makati City. To complement this the geospatial coordinates I used were manually recorded from google maps, by searching each neighborhood and listing their coordinates. "
   ]
  },
  {
   "cell_type": "code",
   "execution_count": null,
   "metadata": {},
   "outputs": [],
   "source": []
  },
  {
   "cell_type": "code",
   "execution_count": null,
   "metadata": {},
   "outputs": [],
   "source": []
  },
  {
   "cell_type": "code",
   "execution_count": null,
   "metadata": {},
   "outputs": [],
   "source": []
  },
  {
   "cell_type": "code",
   "execution_count": null,
   "metadata": {},
   "outputs": [],
   "source": []
  },
  {
   "cell_type": "code",
   "execution_count": null,
   "metadata": {},
   "outputs": [],
   "source": []
  },
  {
   "cell_type": "code",
   "execution_count": null,
   "metadata": {},
   "outputs": [],
   "source": []
  },
  {
   "cell_type": "code",
   "execution_count": null,
   "metadata": {},
   "outputs": [],
   "source": []
  },
  {
   "cell_type": "code",
   "execution_count": null,
   "metadata": {},
   "outputs": [],
   "source": []
  },
  {
   "cell_type": "code",
   "execution_count": null,
   "metadata": {},
   "outputs": [],
   "source": []
  }
 ],
 "metadata": {
  "kernelspec": {
   "display_name": "Python 3",
   "language": "python",
   "name": "python3"
  },
  "language_info": {
   "codemirror_mode": {
    "name": "ipython",
    "version": 3
   },
   "file_extension": ".py",
   "mimetype": "text/x-python",
   "name": "python",
   "nbconvert_exporter": "python",
   "pygments_lexer": "ipython3",
   "version": "3.7.6"
  }
 },
 "nbformat": 4,
 "nbformat_minor": 4
}
